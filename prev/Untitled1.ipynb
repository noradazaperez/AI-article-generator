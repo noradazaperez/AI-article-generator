{
 "cells": [
  {
   "cell_type": "code",
   "execution_count": 1,
   "id": "889babe0",
   "metadata": {},
   "outputs": [
    {
     "name": "stderr",
     "output_type": "stream",
     "text": [
      "/home/nora/.local/lib/python3.10/site-packages/tqdm/auto.py:21: TqdmWarning: IProgress not found. Please update jupyter and ipywidgets. See https://ipywidgets.readthedocs.io/en/stable/user_install.html\n",
      "  from .autonotebook import tqdm as notebook_tqdm\n"
     ]
    }
   ],
   "source": [
    "from newsapi import NewsApiClient\n",
    "from datetime import date\n",
    "\n",
    "import google.generativeai as palm\n",
    "import os"
   ]
  },
  {
   "cell_type": "code",
   "execution_count": 2,
   "id": "f4a76939",
   "metadata": {},
   "outputs": [
    {
     "name": "stdout",
     "output_type": "stream",
     "text": [
      "Note: you may need to restart the kernel to use updated packages.\n"
     ]
    }
   ],
   "source": [
    "pip install -q google-generativeai\n"
   ]
  },
  {
   "cell_type": "code",
   "execution_count": null,
   "id": "a89b999f",
   "metadata": {},
   "outputs": [],
   "source": [
    "gcloud "
   ]
  },
  {
   "cell_type": "code",
   "execution_count": 4,
   "id": "55377019",
   "metadata": {},
   "outputs": [],
   "source": [
    "newsapi = NewsApiClient(api_key='d715fab9c17e4c22a466928247e8441c')\n",
    "palm.configure(api_key=os.environ.get('BARD_API_KEY'))"
   ]
  },
  {
   "cell_type": "code",
   "execution_count": 6,
   "id": "2fbaccce",
   "metadata": {},
   "outputs": [
    {
     "ename": "DefaultCredentialsError",
     "evalue": "Your default credentials were not found. To set up Application Default Credentials, see https://cloud.google.com/docs/authentication/external/set-up-adc for more information.",
     "output_type": "error",
     "traceback": [
      "\u001b[0;31m---------------------------------------------------------------------------\u001b[0m",
      "\u001b[0;31mDefaultCredentialsError\u001b[0m                   Traceback (most recent call last)",
      "Cell \u001b[0;32mIn[6], line 1\u001b[0m\n\u001b[0;32m----> 1\u001b[0m models \u001b[39m=\u001b[39m [m \u001b[39mfor\u001b[39;00m m \u001b[39min\u001b[39;00m palm\u001b[39m.\u001b[39mlist_models() \u001b[39mif\u001b[39;00m \u001b[39m'\u001b[39m\u001b[39mgenerateText\u001b[39m\u001b[39m'\u001b[39m \u001b[39min\u001b[39;00m m\u001b[39m.\u001b[39msupported_generation_methods]\n\u001b[1;32m      2\u001b[0m model \u001b[39m=\u001b[39m models[\u001b[39m0\u001b[39m]\u001b[39m.\u001b[39mname\n\u001b[1;32m      3\u001b[0m \u001b[39mprint\u001b[39m(model)\n",
      "Cell \u001b[0;32mIn[6], line 1\u001b[0m, in \u001b[0;36m<listcomp>\u001b[0;34m(.0)\u001b[0m\n\u001b[0;32m----> 1\u001b[0m models \u001b[39m=\u001b[39m [m \u001b[39mfor\u001b[39;00m m \u001b[39min\u001b[39;00m palm\u001b[39m.\u001b[39mlist_models() \u001b[39mif\u001b[39;00m \u001b[39m'\u001b[39m\u001b[39mgenerateText\u001b[39m\u001b[39m'\u001b[39m \u001b[39min\u001b[39;00m m\u001b[39m.\u001b[39msupported_generation_methods]\n\u001b[1;32m      2\u001b[0m model \u001b[39m=\u001b[39m models[\u001b[39m0\u001b[39m]\u001b[39m.\u001b[39mname\n\u001b[1;32m      3\u001b[0m \u001b[39mprint\u001b[39m(model)\n",
      "File \u001b[0;32m~/.local/lib/python3.10/site-packages/google/generativeai/models.py:162\u001b[0m, in \u001b[0;36mlist_models\u001b[0;34m(page_size, client)\u001b[0m\n\u001b[1;32m    145\u001b[0m \u001b[39m\"\"\"Lists available models.\u001b[39;00m\n\u001b[1;32m    146\u001b[0m \n\u001b[1;32m    147\u001b[0m \u001b[39m```\u001b[39;00m\n\u001b[0;32m   (...)\u001b[0m\n\u001b[1;32m    159\u001b[0m \n\u001b[1;32m    160\u001b[0m \u001b[39m\"\"\"\u001b[39;00m\n\u001b[1;32m    161\u001b[0m \u001b[39mif\u001b[39;00m client \u001b[39mis\u001b[39;00m \u001b[39mNone\u001b[39;00m:\n\u001b[0;32m--> 162\u001b[0m     client \u001b[39m=\u001b[39m get_default_model_client()\n\u001b[1;32m    164\u001b[0m \u001b[39mfor\u001b[39;00m model \u001b[39min\u001b[39;00m client\u001b[39m.\u001b[39mlist_models(page_size\u001b[39m=\u001b[39mpage_size):\n\u001b[1;32m    165\u001b[0m     model \u001b[39m=\u001b[39m \u001b[39mtype\u001b[39m(model)\u001b[39m.\u001b[39mto_dict(model)\n",
      "File \u001b[0;32m~/.local/lib/python3.10/site-packages/google/generativeai/client.py:250\u001b[0m, in \u001b[0;36mget_default_model_client\u001b[0;34m()\u001b[0m\n\u001b[1;32m    249\u001b[0m \u001b[39mdef\u001b[39;00m \u001b[39mget_default_model_client\u001b[39m() \u001b[39m-\u001b[39m\u001b[39m>\u001b[39m glm\u001b[39m.\u001b[39mModelServiceAsyncClient:\n\u001b[0;32m--> 250\u001b[0m     \u001b[39mreturn\u001b[39;00m _client_manager\u001b[39m.\u001b[39;49mget_default_model_client()\n",
      "File \u001b[0;32m~/.local/lib/python3.10/site-packages/google/generativeai/client.py:177\u001b[0m, in \u001b[0;36m_ClientManager.get_default_model_client\u001b[0;34m(self)\u001b[0m\n\u001b[1;32m    175\u001b[0m \u001b[39mdef\u001b[39;00m \u001b[39mget_default_model_client\u001b[39m(\u001b[39mself\u001b[39m) \u001b[39m-\u001b[39m\u001b[39m>\u001b[39m glm\u001b[39m.\u001b[39mModelServiceClient:\n\u001b[1;32m    176\u001b[0m     \u001b[39mif\u001b[39;00m \u001b[39mself\u001b[39m\u001b[39m.\u001b[39mmodel_client \u001b[39mis\u001b[39;00m \u001b[39mNone\u001b[39;00m:\n\u001b[0;32m--> 177\u001b[0m         \u001b[39mself\u001b[39m\u001b[39m.\u001b[39mmodel_client \u001b[39m=\u001b[39m \u001b[39mself\u001b[39;49m\u001b[39m.\u001b[39;49mmake_client(glm\u001b[39m.\u001b[39;49mModelServiceClient)\n\u001b[1;32m    178\u001b[0m     \u001b[39mreturn\u001b[39;00m \u001b[39mself\u001b[39m\u001b[39m.\u001b[39mmodel_client\n",
      "File \u001b[0;32m~/.local/lib/python3.10/site-packages/google/generativeai/client.py:127\u001b[0m, in \u001b[0;36m_ClientManager.make_client\u001b[0;34m(self, cls)\u001b[0m\n\u001b[1;32m    124\u001b[0m \u001b[39mif\u001b[39;00m \u001b[39mnot\u001b[39;00m \u001b[39mself\u001b[39m\u001b[39m.\u001b[39mclient_config:\n\u001b[1;32m    125\u001b[0m     configure()\n\u001b[0;32m--> 127\u001b[0m client \u001b[39m=\u001b[39m \u001b[39mcls\u001b[39;49m(\u001b[39m*\u001b[39;49m\u001b[39m*\u001b[39;49m\u001b[39mself\u001b[39;49m\u001b[39m.\u001b[39;49mclient_config)\n\u001b[1;32m    129\u001b[0m \u001b[39mif\u001b[39;00m \u001b[39mnot\u001b[39;00m \u001b[39mself\u001b[39m\u001b[39m.\u001b[39mdefault_metadata:\n\u001b[1;32m    130\u001b[0m     \u001b[39mreturn\u001b[39;00m client\n",
      "File \u001b[0;32m~/.local/lib/python3.10/site-packages/google/ai/generativelanguage_v1beta3/services/model_service/client.py:450\u001b[0m, in \u001b[0;36mModelServiceClient.__init__\u001b[0;34m(self, credentials, transport, client_options, client_info)\u001b[0m\n\u001b[1;32m    445\u001b[0m     credentials \u001b[39m=\u001b[39m google\u001b[39m.\u001b[39mauth\u001b[39m.\u001b[39m_default\u001b[39m.\u001b[39mget_api_key_credentials(\n\u001b[1;32m    446\u001b[0m         api_key_value\n\u001b[1;32m    447\u001b[0m     )\n\u001b[1;32m    449\u001b[0m Transport \u001b[39m=\u001b[39m \u001b[39mtype\u001b[39m(\u001b[39mself\u001b[39m)\u001b[39m.\u001b[39mget_transport_class(transport)\n\u001b[0;32m--> 450\u001b[0m \u001b[39mself\u001b[39m\u001b[39m.\u001b[39m_transport \u001b[39m=\u001b[39m Transport(\n\u001b[1;32m    451\u001b[0m     credentials\u001b[39m=\u001b[39;49mcredentials,\n\u001b[1;32m    452\u001b[0m     credentials_file\u001b[39m=\u001b[39;49mclient_options\u001b[39m.\u001b[39;49mcredentials_file,\n\u001b[1;32m    453\u001b[0m     host\u001b[39m=\u001b[39;49mapi_endpoint,\n\u001b[1;32m    454\u001b[0m     scopes\u001b[39m=\u001b[39;49mclient_options\u001b[39m.\u001b[39;49mscopes,\n\u001b[1;32m    455\u001b[0m     client_cert_source_for_mtls\u001b[39m=\u001b[39;49mclient_cert_source_func,\n\u001b[1;32m    456\u001b[0m     quota_project_id\u001b[39m=\u001b[39;49mclient_options\u001b[39m.\u001b[39;49mquota_project_id,\n\u001b[1;32m    457\u001b[0m     client_info\u001b[39m=\u001b[39;49mclient_info,\n\u001b[1;32m    458\u001b[0m     always_use_jwt_access\u001b[39m=\u001b[39;49m\u001b[39mTrue\u001b[39;49;00m,\n\u001b[1;32m    459\u001b[0m     api_audience\u001b[39m=\u001b[39;49mclient_options\u001b[39m.\u001b[39;49mapi_audience,\n\u001b[1;32m    460\u001b[0m )\n",
      "File \u001b[0;32m~/.local/lib/python3.10/site-packages/google/ai/generativelanguage_v1beta3/services/model_service/transports/grpc.py:154\u001b[0m, in \u001b[0;36mModelServiceGrpcTransport.__init__\u001b[0;34m(self, host, credentials, credentials_file, scopes, channel, api_mtls_endpoint, client_cert_source, ssl_channel_credentials, client_cert_source_for_mtls, quota_project_id, client_info, always_use_jwt_access, api_audience)\u001b[0m\n\u001b[1;32m    149\u001b[0m             \u001b[39mself\u001b[39m\u001b[39m.\u001b[39m_ssl_channel_credentials \u001b[39m=\u001b[39m grpc\u001b[39m.\u001b[39mssl_channel_credentials(\n\u001b[1;32m    150\u001b[0m                 certificate_chain\u001b[39m=\u001b[39mcert, private_key\u001b[39m=\u001b[39mkey\n\u001b[1;32m    151\u001b[0m             )\n\u001b[1;32m    153\u001b[0m \u001b[39m# The base transport sets the host, credentials and scopes\u001b[39;00m\n\u001b[0;32m--> 154\u001b[0m \u001b[39msuper\u001b[39;49m()\u001b[39m.\u001b[39;49m\u001b[39m__init__\u001b[39;49m(\n\u001b[1;32m    155\u001b[0m     host\u001b[39m=\u001b[39;49mhost,\n\u001b[1;32m    156\u001b[0m     credentials\u001b[39m=\u001b[39;49mcredentials,\n\u001b[1;32m    157\u001b[0m     credentials_file\u001b[39m=\u001b[39;49mcredentials_file,\n\u001b[1;32m    158\u001b[0m     scopes\u001b[39m=\u001b[39;49mscopes,\n\u001b[1;32m    159\u001b[0m     quota_project_id\u001b[39m=\u001b[39;49mquota_project_id,\n\u001b[1;32m    160\u001b[0m     client_info\u001b[39m=\u001b[39;49mclient_info,\n\u001b[1;32m    161\u001b[0m     always_use_jwt_access\u001b[39m=\u001b[39;49malways_use_jwt_access,\n\u001b[1;32m    162\u001b[0m     api_audience\u001b[39m=\u001b[39;49mapi_audience,\n\u001b[1;32m    163\u001b[0m )\n\u001b[1;32m    165\u001b[0m \u001b[39mif\u001b[39;00m \u001b[39mnot\u001b[39;00m \u001b[39mself\u001b[39m\u001b[39m.\u001b[39m_grpc_channel:\n\u001b[1;32m    166\u001b[0m     \u001b[39mself\u001b[39m\u001b[39m.\u001b[39m_grpc_channel \u001b[39m=\u001b[39m \u001b[39mtype\u001b[39m(\u001b[39mself\u001b[39m)\u001b[39m.\u001b[39mcreate_channel(\n\u001b[1;32m    167\u001b[0m         \u001b[39mself\u001b[39m\u001b[39m.\u001b[39m_host,\n\u001b[1;32m    168\u001b[0m         \u001b[39m# use the credentials which are saved\u001b[39;00m\n\u001b[0;32m   (...)\u001b[0m\n\u001b[1;32m    179\u001b[0m         ],\n\u001b[1;32m    180\u001b[0m     )\n",
      "File \u001b[0;32m~/.local/lib/python3.10/site-packages/google/ai/generativelanguage_v1beta3/services/model_service/transports/base.py:101\u001b[0m, in \u001b[0;36mModelServiceTransport.__init__\u001b[0;34m(self, host, credentials, credentials_file, scopes, quota_project_id, client_info, always_use_jwt_access, api_audience, **kwargs)\u001b[0m\n\u001b[1;32m     97\u001b[0m     credentials, _ \u001b[39m=\u001b[39m google\u001b[39m.\u001b[39mauth\u001b[39m.\u001b[39mload_credentials_from_file(\n\u001b[1;32m     98\u001b[0m         credentials_file, \u001b[39m*\u001b[39m\u001b[39m*\u001b[39mscopes_kwargs, quota_project_id\u001b[39m=\u001b[39mquota_project_id\n\u001b[1;32m     99\u001b[0m     )\n\u001b[1;32m    100\u001b[0m \u001b[39melif\u001b[39;00m credentials \u001b[39mis\u001b[39;00m \u001b[39mNone\u001b[39;00m:\n\u001b[0;32m--> 101\u001b[0m     credentials, _ \u001b[39m=\u001b[39m google\u001b[39m.\u001b[39;49mauth\u001b[39m.\u001b[39;49mdefault(\n\u001b[1;32m    102\u001b[0m         \u001b[39m*\u001b[39;49m\u001b[39m*\u001b[39;49mscopes_kwargs, quota_project_id\u001b[39m=\u001b[39;49mquota_project_id\n\u001b[1;32m    103\u001b[0m     )\n\u001b[1;32m    104\u001b[0m     \u001b[39m# Don't apply audience if the credentials file passed from user.\u001b[39;00m\n\u001b[1;32m    105\u001b[0m     \u001b[39mif\u001b[39;00m \u001b[39mhasattr\u001b[39m(credentials, \u001b[39m\"\u001b[39m\u001b[39mwith_gdch_audience\u001b[39m\u001b[39m\"\u001b[39m):\n",
      "File \u001b[0;32m~/.local/lib/python3.10/site-packages/google/auth/_default.py:691\u001b[0m, in \u001b[0;36mdefault\u001b[0;34m(scopes, request, quota_project_id, default_scopes)\u001b[0m\n\u001b[1;32m    683\u001b[0m             _LOGGER\u001b[39m.\u001b[39mwarning(\n\u001b[1;32m    684\u001b[0m                 \u001b[39m\"\u001b[39m\u001b[39mNo project ID could be determined. Consider running \u001b[39m\u001b[39m\"\u001b[39m\n\u001b[1;32m    685\u001b[0m                 \u001b[39m\"\u001b[39m\u001b[39m`gcloud config set project` or setting the \u001b[39m\u001b[39m%s\u001b[39;00m\u001b[39m \u001b[39m\u001b[39m\"\u001b[39m\n\u001b[1;32m    686\u001b[0m                 \u001b[39m\"\u001b[39m\u001b[39menvironment variable\u001b[39m\u001b[39m\"\u001b[39m,\n\u001b[1;32m    687\u001b[0m                 environment_vars\u001b[39m.\u001b[39mPROJECT,\n\u001b[1;32m    688\u001b[0m             )\n\u001b[1;32m    689\u001b[0m         \u001b[39mreturn\u001b[39;00m credentials, effective_project_id\n\u001b[0;32m--> 691\u001b[0m \u001b[39mraise\u001b[39;00m exceptions\u001b[39m.\u001b[39mDefaultCredentialsError(_CLOUD_SDK_MISSING_CREDENTIALS)\n",
      "\u001b[0;31mDefaultCredentialsError\u001b[0m: Your default credentials were not found. To set up Application Default Credentials, see https://cloud.google.com/docs/authentication/external/set-up-adc for more information."
     ]
    }
   ],
   "source": [
    "models = [m for m in palm.list_models() if 'generateText' in m.supported_generation_methods]\n",
    "model = models[0].name\n",
    "print(model)\n"
   ]
  },
  {
   "cell_type": "code",
   "execution_count": 5,
   "id": "dbd78bb5",
   "metadata": {
    "scrolled": true
   },
   "outputs": [
    {
     "ename": "DefaultCredentialsError",
     "evalue": "Your default credentials were not found. To set up Application Default Credentials, see https://cloud.google.com/docs/authentication/external/set-up-adc for more information.",
     "output_type": "error",
     "traceback": [
      "\u001b[0;31m---------------------------------------------------------------------------\u001b[0m",
      "\u001b[0;31mDefaultCredentialsError\u001b[0m                   Traceback (most recent call last)",
      "Cell \u001b[0;32mIn[5], line 12\u001b[0m\n\u001b[1;32m     10\u001b[0m messages \u001b[39m=\u001b[39m []\n\u001b[1;32m     11\u001b[0m messages\u001b[39m.\u001b[39mappend(\u001b[39m\"\u001b[39m\u001b[39mHola!\u001b[39m\u001b[39m\"\u001b[39m)\n\u001b[0;32m---> 12\u001b[0m response \u001b[39m=\u001b[39m palm\u001b[39m.\u001b[39;49mchat(\n\u001b[1;32m     13\u001b[0m   \u001b[39m*\u001b[39;49m\u001b[39m*\u001b[39;49mdefaults,\n\u001b[1;32m     14\u001b[0m   context\u001b[39m=\u001b[39;49mcontext,\n\u001b[1;32m     15\u001b[0m   examples\u001b[39m=\u001b[39;49mexamples,\n\u001b[1;32m     16\u001b[0m   messages\u001b[39m=\u001b[39;49mmessages\n\u001b[1;32m     17\u001b[0m )\n\u001b[1;32m     18\u001b[0m \u001b[39mprint\u001b[39m(response\u001b[39m.\u001b[39mlast) \u001b[39m# Response of the AI to your most recent request\u001b[39;00m\n",
      "File \u001b[0;32m~/.local/lib/python3.10/site-packages/google/generativeai/discuss.py:411\u001b[0m, in \u001b[0;36mchat\u001b[0;34m(model, context, examples, messages, temperature, candidate_count, top_p, top_k, prompt, client)\u001b[0m\n\u001b[1;32m    330\u001b[0m \u001b[39m\"\"\"Calls the API and returns a `types.ChatResponse` containing the response.\u001b[39;00m\n\u001b[1;32m    331\u001b[0m \n\u001b[1;32m    332\u001b[0m \u001b[39mArgs:\u001b[39;00m\n\u001b[0;32m   (...)\u001b[0m\n\u001b[1;32m    397\u001b[0m \u001b[39m    A `types.ChatResponse` containing the model's reply.\u001b[39;00m\n\u001b[1;32m    398\u001b[0m \u001b[39m\"\"\"\u001b[39;00m\n\u001b[1;32m    399\u001b[0m request \u001b[39m=\u001b[39m _make_generate_message_request(\n\u001b[1;32m    400\u001b[0m     model\u001b[39m=\u001b[39mmodel,\n\u001b[1;32m    401\u001b[0m     context\u001b[39m=\u001b[39mcontext,\n\u001b[0;32m   (...)\u001b[0m\n\u001b[1;32m    408\u001b[0m     prompt\u001b[39m=\u001b[39mprompt,\n\u001b[1;32m    409\u001b[0m )\n\u001b[0;32m--> 411\u001b[0m \u001b[39mreturn\u001b[39;00m _generate_response(client\u001b[39m=\u001b[39;49mclient, request\u001b[39m=\u001b[39;49mrequest)\n",
      "File \u001b[0;32m~/.local/lib/python3.10/site-packages/google/generativeai/discuss.py:541\u001b[0m, in \u001b[0;36m_generate_response\u001b[0;34m(request, client)\u001b[0m\n\u001b[1;32m    536\u001b[0m \u001b[39mdef\u001b[39;00m \u001b[39m_generate_response\u001b[39m(\n\u001b[1;32m    537\u001b[0m     request: glm\u001b[39m.\u001b[39mGenerateMessageRequest,\n\u001b[1;32m    538\u001b[0m     client: glm\u001b[39m.\u001b[39mDiscussServiceClient \u001b[39m|\u001b[39m \u001b[39mNone\u001b[39;00m \u001b[39m=\u001b[39m \u001b[39mNone\u001b[39;00m,\n\u001b[1;32m    539\u001b[0m ) \u001b[39m-\u001b[39m\u001b[39m>\u001b[39m ChatResponse:\n\u001b[1;32m    540\u001b[0m     \u001b[39mif\u001b[39;00m client \u001b[39mis\u001b[39;00m \u001b[39mNone\u001b[39;00m:\n\u001b[0;32m--> 541\u001b[0m         client \u001b[39m=\u001b[39m get_default_discuss_client()\n\u001b[1;32m    543\u001b[0m     response \u001b[39m=\u001b[39m client\u001b[39m.\u001b[39mgenerate_message(request)\n\u001b[1;32m    545\u001b[0m     \u001b[39mreturn\u001b[39;00m _build_chat_response(request, response, client)\n",
      "File \u001b[0;32m~/.local/lib/python3.10/site-packages/google/generativeai/client.py:234\u001b[0m, in \u001b[0;36mget_default_discuss_client\u001b[0;34m()\u001b[0m\n\u001b[1;32m    233\u001b[0m \u001b[39mdef\u001b[39;00m \u001b[39mget_default_discuss_client\u001b[39m() \u001b[39m-\u001b[39m\u001b[39m>\u001b[39m glm\u001b[39m.\u001b[39mDiscussServiceClient:\n\u001b[0;32m--> 234\u001b[0m     \u001b[39mreturn\u001b[39;00m _client_manager\u001b[39m.\u001b[39;49mget_default_discuss_client()\n",
      "File \u001b[0;32m~/.local/lib/python3.10/site-packages/google/generativeai/client.py:162\u001b[0m, in \u001b[0;36m_ClientManager.get_default_discuss_client\u001b[0;34m(self)\u001b[0m\n\u001b[1;32m    160\u001b[0m \u001b[39mdef\u001b[39;00m \u001b[39mget_default_discuss_client\u001b[39m(\u001b[39mself\u001b[39m) \u001b[39m-\u001b[39m\u001b[39m>\u001b[39m glm\u001b[39m.\u001b[39mDiscussServiceClient:\n\u001b[1;32m    161\u001b[0m     \u001b[39mif\u001b[39;00m \u001b[39mself\u001b[39m\u001b[39m.\u001b[39mdiscuss_client \u001b[39mis\u001b[39;00m \u001b[39mNone\u001b[39;00m:\n\u001b[0;32m--> 162\u001b[0m         \u001b[39mself\u001b[39m\u001b[39m.\u001b[39mdiscuss_client \u001b[39m=\u001b[39m \u001b[39mself\u001b[39;49m\u001b[39m.\u001b[39;49mmake_client(glm\u001b[39m.\u001b[39;49mDiscussServiceClient)\n\u001b[1;32m    163\u001b[0m     \u001b[39mreturn\u001b[39;00m \u001b[39mself\u001b[39m\u001b[39m.\u001b[39mdiscuss_client\n",
      "File \u001b[0;32m~/.local/lib/python3.10/site-packages/google/generativeai/client.py:127\u001b[0m, in \u001b[0;36m_ClientManager.make_client\u001b[0;34m(self, cls)\u001b[0m\n\u001b[1;32m    124\u001b[0m \u001b[39mif\u001b[39;00m \u001b[39mnot\u001b[39;00m \u001b[39mself\u001b[39m\u001b[39m.\u001b[39mclient_config:\n\u001b[1;32m    125\u001b[0m     configure()\n\u001b[0;32m--> 127\u001b[0m client \u001b[39m=\u001b[39m \u001b[39mcls\u001b[39;49m(\u001b[39m*\u001b[39;49m\u001b[39m*\u001b[39;49m\u001b[39mself\u001b[39;49m\u001b[39m.\u001b[39;49mclient_config)\n\u001b[1;32m    129\u001b[0m \u001b[39mif\u001b[39;00m \u001b[39mnot\u001b[39;00m \u001b[39mself\u001b[39m\u001b[39m.\u001b[39mdefault_metadata:\n\u001b[1;32m    130\u001b[0m     \u001b[39mreturn\u001b[39;00m client\n",
      "File \u001b[0;32m~/.local/lib/python3.10/site-packages/google/ai/generativelanguage_v1beta3/services/discuss_service/client.py:432\u001b[0m, in \u001b[0;36mDiscussServiceClient.__init__\u001b[0;34m(self, credentials, transport, client_options, client_info)\u001b[0m\n\u001b[1;32m    427\u001b[0m     credentials \u001b[39m=\u001b[39m google\u001b[39m.\u001b[39mauth\u001b[39m.\u001b[39m_default\u001b[39m.\u001b[39mget_api_key_credentials(\n\u001b[1;32m    428\u001b[0m         api_key_value\n\u001b[1;32m    429\u001b[0m     )\n\u001b[1;32m    431\u001b[0m Transport \u001b[39m=\u001b[39m \u001b[39mtype\u001b[39m(\u001b[39mself\u001b[39m)\u001b[39m.\u001b[39mget_transport_class(transport)\n\u001b[0;32m--> 432\u001b[0m \u001b[39mself\u001b[39m\u001b[39m.\u001b[39m_transport \u001b[39m=\u001b[39m Transport(\n\u001b[1;32m    433\u001b[0m     credentials\u001b[39m=\u001b[39;49mcredentials,\n\u001b[1;32m    434\u001b[0m     credentials_file\u001b[39m=\u001b[39;49mclient_options\u001b[39m.\u001b[39;49mcredentials_file,\n\u001b[1;32m    435\u001b[0m     host\u001b[39m=\u001b[39;49mapi_endpoint,\n\u001b[1;32m    436\u001b[0m     scopes\u001b[39m=\u001b[39;49mclient_options\u001b[39m.\u001b[39;49mscopes,\n\u001b[1;32m    437\u001b[0m     client_cert_source_for_mtls\u001b[39m=\u001b[39;49mclient_cert_source_func,\n\u001b[1;32m    438\u001b[0m     quota_project_id\u001b[39m=\u001b[39;49mclient_options\u001b[39m.\u001b[39;49mquota_project_id,\n\u001b[1;32m    439\u001b[0m     client_info\u001b[39m=\u001b[39;49mclient_info,\n\u001b[1;32m    440\u001b[0m     always_use_jwt_access\u001b[39m=\u001b[39;49m\u001b[39mTrue\u001b[39;49;00m,\n\u001b[1;32m    441\u001b[0m     api_audience\u001b[39m=\u001b[39;49mclient_options\u001b[39m.\u001b[39;49mapi_audience,\n\u001b[1;32m    442\u001b[0m )\n",
      "File \u001b[0;32m~/.local/lib/python3.10/site-packages/google/ai/generativelanguage_v1beta3/services/discuss_service/transports/grpc.py:152\u001b[0m, in \u001b[0;36mDiscussServiceGrpcTransport.__init__\u001b[0;34m(self, host, credentials, credentials_file, scopes, channel, api_mtls_endpoint, client_cert_source, ssl_channel_credentials, client_cert_source_for_mtls, quota_project_id, client_info, always_use_jwt_access, api_audience)\u001b[0m\n\u001b[1;32m    147\u001b[0m             \u001b[39mself\u001b[39m\u001b[39m.\u001b[39m_ssl_channel_credentials \u001b[39m=\u001b[39m grpc\u001b[39m.\u001b[39mssl_channel_credentials(\n\u001b[1;32m    148\u001b[0m                 certificate_chain\u001b[39m=\u001b[39mcert, private_key\u001b[39m=\u001b[39mkey\n\u001b[1;32m    149\u001b[0m             )\n\u001b[1;32m    151\u001b[0m \u001b[39m# The base transport sets the host, credentials and scopes\u001b[39;00m\n\u001b[0;32m--> 152\u001b[0m \u001b[39msuper\u001b[39;49m()\u001b[39m.\u001b[39;49m\u001b[39m__init__\u001b[39;49m(\n\u001b[1;32m    153\u001b[0m     host\u001b[39m=\u001b[39;49mhost,\n\u001b[1;32m    154\u001b[0m     credentials\u001b[39m=\u001b[39;49mcredentials,\n\u001b[1;32m    155\u001b[0m     credentials_file\u001b[39m=\u001b[39;49mcredentials_file,\n\u001b[1;32m    156\u001b[0m     scopes\u001b[39m=\u001b[39;49mscopes,\n\u001b[1;32m    157\u001b[0m     quota_project_id\u001b[39m=\u001b[39;49mquota_project_id,\n\u001b[1;32m    158\u001b[0m     client_info\u001b[39m=\u001b[39;49mclient_info,\n\u001b[1;32m    159\u001b[0m     always_use_jwt_access\u001b[39m=\u001b[39;49malways_use_jwt_access,\n\u001b[1;32m    160\u001b[0m     api_audience\u001b[39m=\u001b[39;49mapi_audience,\n\u001b[1;32m    161\u001b[0m )\n\u001b[1;32m    163\u001b[0m \u001b[39mif\u001b[39;00m \u001b[39mnot\u001b[39;00m \u001b[39mself\u001b[39m\u001b[39m.\u001b[39m_grpc_channel:\n\u001b[1;32m    164\u001b[0m     \u001b[39mself\u001b[39m\u001b[39m.\u001b[39m_grpc_channel \u001b[39m=\u001b[39m \u001b[39mtype\u001b[39m(\u001b[39mself\u001b[39m)\u001b[39m.\u001b[39mcreate_channel(\n\u001b[1;32m    165\u001b[0m         \u001b[39mself\u001b[39m\u001b[39m.\u001b[39m_host,\n\u001b[1;32m    166\u001b[0m         \u001b[39m# use the credentials which are saved\u001b[39;00m\n\u001b[0;32m   (...)\u001b[0m\n\u001b[1;32m    177\u001b[0m         ],\n\u001b[1;32m    178\u001b[0m     )\n",
      "File \u001b[0;32m~/.local/lib/python3.10/site-packages/google/ai/generativelanguage_v1beta3/services/discuss_service/transports/base.py:98\u001b[0m, in \u001b[0;36mDiscussServiceTransport.__init__\u001b[0;34m(self, host, credentials, credentials_file, scopes, quota_project_id, client_info, always_use_jwt_access, api_audience, **kwargs)\u001b[0m\n\u001b[1;32m     94\u001b[0m     credentials, _ \u001b[39m=\u001b[39m google\u001b[39m.\u001b[39mauth\u001b[39m.\u001b[39mload_credentials_from_file(\n\u001b[1;32m     95\u001b[0m         credentials_file, \u001b[39m*\u001b[39m\u001b[39m*\u001b[39mscopes_kwargs, quota_project_id\u001b[39m=\u001b[39mquota_project_id\n\u001b[1;32m     96\u001b[0m     )\n\u001b[1;32m     97\u001b[0m \u001b[39melif\u001b[39;00m credentials \u001b[39mis\u001b[39;00m \u001b[39mNone\u001b[39;00m:\n\u001b[0;32m---> 98\u001b[0m     credentials, _ \u001b[39m=\u001b[39m google\u001b[39m.\u001b[39;49mauth\u001b[39m.\u001b[39;49mdefault(\n\u001b[1;32m     99\u001b[0m         \u001b[39m*\u001b[39;49m\u001b[39m*\u001b[39;49mscopes_kwargs, quota_project_id\u001b[39m=\u001b[39;49mquota_project_id\n\u001b[1;32m    100\u001b[0m     )\n\u001b[1;32m    101\u001b[0m     \u001b[39m# Don't apply audience if the credentials file passed from user.\u001b[39;00m\n\u001b[1;32m    102\u001b[0m     \u001b[39mif\u001b[39;00m \u001b[39mhasattr\u001b[39m(credentials, \u001b[39m\"\u001b[39m\u001b[39mwith_gdch_audience\u001b[39m\u001b[39m\"\u001b[39m):\n",
      "File \u001b[0;32m~/.local/lib/python3.10/site-packages/google/auth/_default.py:691\u001b[0m, in \u001b[0;36mdefault\u001b[0;34m(scopes, request, quota_project_id, default_scopes)\u001b[0m\n\u001b[1;32m    683\u001b[0m             _LOGGER\u001b[39m.\u001b[39mwarning(\n\u001b[1;32m    684\u001b[0m                 \u001b[39m\"\u001b[39m\u001b[39mNo project ID could be determined. Consider running \u001b[39m\u001b[39m\"\u001b[39m\n\u001b[1;32m    685\u001b[0m                 \u001b[39m\"\u001b[39m\u001b[39m`gcloud config set project` or setting the \u001b[39m\u001b[39m%s\u001b[39;00m\u001b[39m \u001b[39m\u001b[39m\"\u001b[39m\n\u001b[1;32m    686\u001b[0m                 \u001b[39m\"\u001b[39m\u001b[39menvironment variable\u001b[39m\u001b[39m\"\u001b[39m,\n\u001b[1;32m    687\u001b[0m                 environment_vars\u001b[39m.\u001b[39mPROJECT,\n\u001b[1;32m    688\u001b[0m             )\n\u001b[1;32m    689\u001b[0m         \u001b[39mreturn\u001b[39;00m credentials, effective_project_id\n\u001b[0;32m--> 691\u001b[0m \u001b[39mraise\u001b[39;00m exceptions\u001b[39m.\u001b[39mDefaultCredentialsError(_CLOUD_SDK_MISSING_CREDENTIALS)\n",
      "\u001b[0;31mDefaultCredentialsError\u001b[0m: Your default credentials were not found. To set up Application Default Credentials, see https://cloud.google.com/docs/authentication/external/set-up-adc for more information."
     ]
    }
   ],
   "source": [
    "defaults = {\n",
    "  'model': 'models/chat-bison-001',\n",
    "  'temperature': 0.25,\n",
    "  'candidate_count': 1,\n",
    "  'top_k': 40,\n",
    "  'top_p': 0.95,\n",
    "}\n",
    "context = \"\"\n",
    "examples = []\n",
    "messages = []\n",
    "messages.append(\"Hola!\")\n",
    "response = palm.chat(\n",
    "  **defaults,\n",
    "  context=context,\n",
    "  examples=examples,\n",
    "  messages=messages\n",
    ")\n",
    "print(response.last) # Response of the AI to your most recent request\n",
    "\n"
   ]
  },
  {
   "cell_type": "code",
   "execution_count": null,
   "id": "92c7b7c6",
   "metadata": {},
   "outputs": [],
   "source": []
  },
  {
   "cell_type": "code",
   "execution_count": null,
   "id": "c73ca227",
   "metadata": {},
   "outputs": [],
   "source": [
    "models = [m for m in palm.list_models() if 'generateText' in m.supported_generation_methods]\n",
    "model = models[0].name\n",
    "print(model)\n",
    "\n",
    "prompt = \"Who are you?\"\n",
    "\n",
    "completion = palm.generate_text(\n",
    "    model=model,\n",
    "    prompt=prompt,\n",
    "    temperature=0,\n",
    "    # The maximum length of the response\n",
    "    max_output_tokens=800,\n",
    ")\n",
    "print(completion.result)"
   ]
  },
  {
   "cell_type": "code",
   "execution_count": null,
   "id": "5814472f",
   "metadata": {},
   "outputs": [],
   "source": [
    "# Get today's date a month ago. Day ? \n",
    "\n",
    "today = date.today()\n",
    "month_ago = date(today.year, today.month - 1, today.day) if today.month != 1 else date(today.year, 12, today.day)"
   ]
  },
  {
   "cell_type": "code",
   "execution_count": null,
   "id": "c24b7f3b",
   "metadata": {},
   "outputs": [],
   "source": [
    "# ONE WAY TO DO IT \n",
    "\n",
    "news_results = []\n",
    "news_results += newsapi.get_everything(q='skincare trend', \n",
    "                        from_param=month_ago, \n",
    "                        to=today,\n",
    "                        language='en',\n",
    "                        sort_by='popularity')['articles']\n",
    "\n",
    "news_results += newsapi.get_everything(q='skincare hack', \n",
    "                        from_param=month_ago, \n",
    "                        to=today,\n",
    "                        language='en',\n",
    "                        sort_by='popularity')['articles']\n",
    "\n",
    "news_results += newsapi.get_everything(q='beauty industry', \n",
    "                        from_param=month_ago, \n",
    "                        to=today,\n",
    "                        language='en',\n",
    "                        sort_by='popularity')['articles']\n",
    "\n",
    "news_results += newsapi.get_everything(q='beauty trend', \n",
    "                        from_param=month_ago, \n",
    "                        to=today,\n",
    "                        language='en',\n",
    "                        sort_by='popularity')['articles']\n",
    "\n",
    "# [removed] clauses !!\n",
    "titles = [d['title'] for d in news_results]\n",
    "\n"
   ]
  },
  {
   "cell_type": "code",
   "execution_count": null,
   "id": "c425c2b4",
   "metadata": {},
   "outputs": [],
   "source": []
  }
 ],
 "metadata": {
  "kernelspec": {
   "display_name": "Python 3 (ipykernel)",
   "language": "python",
   "name": "python3"
  },
  "language_info": {
   "codemirror_mode": {
    "name": "ipython",
    "version": 3
   },
   "file_extension": ".py",
   "mimetype": "text/x-python",
   "name": "python",
   "nbconvert_exporter": "python",
   "pygments_lexer": "ipython3",
   "version": "3.10.12"
  }
 },
 "nbformat": 4,
 "nbformat_minor": 5
}
